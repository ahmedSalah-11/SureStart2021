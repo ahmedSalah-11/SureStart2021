{
  "nbformat": 4,
  "nbformat_minor": 0,
  "metadata": {
    "colab": {
      "name": "Predict house prices using a simple CNN .ipynb",
      "provenance": [],
      "toc_visible": true,
      "authorship_tag": "ABX9TyPJhaF48E/RytwCTFKKlHSm"
    },
    "kernelspec": {
      "name": "python3",
      "display_name": "Python 3"
    }
  },
  "cells": [
    {
      "cell_type": "code",
      "metadata": {
        "id": "dYwJjR6ccR_K"
      },
      "source": [
        "import pandas as pd\r\n",
        "from sklearn import preprocessing\r\n",
        "from sklearn.model_selection import train_test_split\r\n",
        "from keras.models import Sequential\r\n",
        "from keras.layers import Dense\r\n",
        "import matplotlib.pyplot as plt\r\n"
      ],
      "execution_count": 21,
      "outputs": []
    },
    {
      "cell_type": "code",
      "metadata": {
        "colab": {
          "base_uri": "https://localhost:8080/",
          "height": 402
        },
        "id": "cFfnWbyaduO-",
        "outputId": "be1951b2-985a-41bc-aa52-1cdca02077ca"
      },
      "source": [
        "df=pd.read_csv('/content/sample_data/housepricedata.csv')\r\n",
        "df"
      ],
      "execution_count": 4,
      "outputs": [
        {
          "output_type": "execute_result",
          "data": {
            "text/html": [
              "<div>\n",
              "<style scoped>\n",
              "    .dataframe tbody tr th:only-of-type {\n",
              "        vertical-align: middle;\n",
              "    }\n",
              "\n",
              "    .dataframe tbody tr th {\n",
              "        vertical-align: top;\n",
              "    }\n",
              "\n",
              "    .dataframe thead th {\n",
              "        text-align: right;\n",
              "    }\n",
              "</style>\n",
              "<table border=\"1\" class=\"dataframe\">\n",
              "  <thead>\n",
              "    <tr style=\"text-align: right;\">\n",
              "      <th></th>\n",
              "      <th>LotArea</th>\n",
              "      <th>OverallQual</th>\n",
              "      <th>OverallCond</th>\n",
              "      <th>TotalBsmtSF</th>\n",
              "      <th>FullBath</th>\n",
              "      <th>HalfBath</th>\n",
              "      <th>BedroomAbvGr</th>\n",
              "      <th>TotRmsAbvGrd</th>\n",
              "      <th>Fireplaces</th>\n",
              "      <th>GarageArea</th>\n",
              "      <th>AboveMedianPrice</th>\n",
              "    </tr>\n",
              "  </thead>\n",
              "  <tbody>\n",
              "    <tr>\n",
              "      <th>0</th>\n",
              "      <td>8450</td>\n",
              "      <td>7</td>\n",
              "      <td>5</td>\n",
              "      <td>856</td>\n",
              "      <td>2</td>\n",
              "      <td>1</td>\n",
              "      <td>3</td>\n",
              "      <td>8</td>\n",
              "      <td>0</td>\n",
              "      <td>548</td>\n",
              "      <td>1</td>\n",
              "    </tr>\n",
              "    <tr>\n",
              "      <th>1</th>\n",
              "      <td>9600</td>\n",
              "      <td>6</td>\n",
              "      <td>8</td>\n",
              "      <td>1262</td>\n",
              "      <td>2</td>\n",
              "      <td>0</td>\n",
              "      <td>3</td>\n",
              "      <td>6</td>\n",
              "      <td>1</td>\n",
              "      <td>460</td>\n",
              "      <td>1</td>\n",
              "    </tr>\n",
              "    <tr>\n",
              "      <th>2</th>\n",
              "      <td>11250</td>\n",
              "      <td>7</td>\n",
              "      <td>5</td>\n",
              "      <td>920</td>\n",
              "      <td>2</td>\n",
              "      <td>1</td>\n",
              "      <td>3</td>\n",
              "      <td>6</td>\n",
              "      <td>1</td>\n",
              "      <td>608</td>\n",
              "      <td>1</td>\n",
              "    </tr>\n",
              "    <tr>\n",
              "      <th>3</th>\n",
              "      <td>9550</td>\n",
              "      <td>7</td>\n",
              "      <td>5</td>\n",
              "      <td>756</td>\n",
              "      <td>1</td>\n",
              "      <td>0</td>\n",
              "      <td>3</td>\n",
              "      <td>7</td>\n",
              "      <td>1</td>\n",
              "      <td>642</td>\n",
              "      <td>0</td>\n",
              "    </tr>\n",
              "    <tr>\n",
              "      <th>4</th>\n",
              "      <td>14260</td>\n",
              "      <td>8</td>\n",
              "      <td>5</td>\n",
              "      <td>1145</td>\n",
              "      <td>2</td>\n",
              "      <td>1</td>\n",
              "      <td>4</td>\n",
              "      <td>9</td>\n",
              "      <td>1</td>\n",
              "      <td>836</td>\n",
              "      <td>1</td>\n",
              "    </tr>\n",
              "    <tr>\n",
              "      <th>...</th>\n",
              "      <td>...</td>\n",
              "      <td>...</td>\n",
              "      <td>...</td>\n",
              "      <td>...</td>\n",
              "      <td>...</td>\n",
              "      <td>...</td>\n",
              "      <td>...</td>\n",
              "      <td>...</td>\n",
              "      <td>...</td>\n",
              "      <td>...</td>\n",
              "      <td>...</td>\n",
              "    </tr>\n",
              "    <tr>\n",
              "      <th>1455</th>\n",
              "      <td>7917</td>\n",
              "      <td>6</td>\n",
              "      <td>5</td>\n",
              "      <td>953</td>\n",
              "      <td>2</td>\n",
              "      <td>1</td>\n",
              "      <td>3</td>\n",
              "      <td>7</td>\n",
              "      <td>1</td>\n",
              "      <td>460</td>\n",
              "      <td>1</td>\n",
              "    </tr>\n",
              "    <tr>\n",
              "      <th>1456</th>\n",
              "      <td>13175</td>\n",
              "      <td>6</td>\n",
              "      <td>6</td>\n",
              "      <td>1542</td>\n",
              "      <td>2</td>\n",
              "      <td>0</td>\n",
              "      <td>3</td>\n",
              "      <td>7</td>\n",
              "      <td>2</td>\n",
              "      <td>500</td>\n",
              "      <td>1</td>\n",
              "    </tr>\n",
              "    <tr>\n",
              "      <th>1457</th>\n",
              "      <td>9042</td>\n",
              "      <td>7</td>\n",
              "      <td>9</td>\n",
              "      <td>1152</td>\n",
              "      <td>2</td>\n",
              "      <td>0</td>\n",
              "      <td>4</td>\n",
              "      <td>9</td>\n",
              "      <td>2</td>\n",
              "      <td>252</td>\n",
              "      <td>1</td>\n",
              "    </tr>\n",
              "    <tr>\n",
              "      <th>1458</th>\n",
              "      <td>9717</td>\n",
              "      <td>5</td>\n",
              "      <td>6</td>\n",
              "      <td>1078</td>\n",
              "      <td>1</td>\n",
              "      <td>0</td>\n",
              "      <td>2</td>\n",
              "      <td>5</td>\n",
              "      <td>0</td>\n",
              "      <td>240</td>\n",
              "      <td>0</td>\n",
              "    </tr>\n",
              "    <tr>\n",
              "      <th>1459</th>\n",
              "      <td>9937</td>\n",
              "      <td>5</td>\n",
              "      <td>6</td>\n",
              "      <td>1256</td>\n",
              "      <td>1</td>\n",
              "      <td>1</td>\n",
              "      <td>3</td>\n",
              "      <td>6</td>\n",
              "      <td>0</td>\n",
              "      <td>276</td>\n",
              "      <td>0</td>\n",
              "    </tr>\n",
              "  </tbody>\n",
              "</table>\n",
              "<p>1460 rows × 11 columns</p>\n",
              "</div>"
            ],
            "text/plain": [
              "      LotArea  OverallQual  ...  GarageArea  AboveMedianPrice\n",
              "0        8450            7  ...         548                 1\n",
              "1        9600            6  ...         460                 1\n",
              "2       11250            7  ...         608                 1\n",
              "3        9550            7  ...         642                 0\n",
              "4       14260            8  ...         836                 1\n",
              "...       ...          ...  ...         ...               ...\n",
              "1455     7917            6  ...         460                 1\n",
              "1456    13175            6  ...         500                 1\n",
              "1457     9042            7  ...         252                 1\n",
              "1458     9717            5  ...         240                 0\n",
              "1459     9937            5  ...         276                 0\n",
              "\n",
              "[1460 rows x 11 columns]"
            ]
          },
          "metadata": {
            "tags": []
          },
          "execution_count": 4
        }
      ]
    },
    {
      "cell_type": "markdown",
      "metadata": {
        "id": "3aHiZuAhdynq"
      },
      "source": [
        "### convert our dataframe into an array"
      ]
    },
    {
      "cell_type": "code",
      "metadata": {
        "colab": {
          "base_uri": "https://localhost:8080/"
        },
        "id": "fswR3c7Ngm70",
        "outputId": "ab637eeb-0941-4d2b-f565-eb7b73ed6f6a"
      },
      "source": [
        "dataset = df.values\r\n",
        "dataset\r\n"
      ],
      "execution_count": 5,
      "outputs": [
        {
          "output_type": "execute_result",
          "data": {
            "text/plain": [
              "array([[ 8450,     7,     5, ...,     0,   548,     1],\n",
              "       [ 9600,     6,     8, ...,     1,   460,     1],\n",
              "       [11250,     7,     5, ...,     1,   608,     1],\n",
              "       ...,\n",
              "       [ 9042,     7,     9, ...,     2,   252,     1],\n",
              "       [ 9717,     5,     6, ...,     0,   240,     0],\n",
              "       [ 9937,     5,     6, ...,     0,   276,     0]])"
            ]
          },
          "metadata": {
            "tags": []
          },
          "execution_count": 5
        }
      ]
    },
    {
      "cell_type": "markdown",
      "metadata": {
        "id": "FC9u6rnCgpW0"
      },
      "source": [
        "### We now split our dataset into Features (X), the feature we wish to predict (Y)"
      ]
    },
    {
      "cell_type": "code",
      "metadata": {
        "colab": {
          "base_uri": "https://localhost:8080/"
        },
        "id": "90XovdQghguX",
        "outputId": "36f58f48-be29-46c5-cf53-37c6aaef3f93"
      },
      "source": [
        "X=dataset[:,0:10]\r\n",
        "X"
      ],
      "execution_count": 6,
      "outputs": [
        {
          "output_type": "execute_result",
          "data": {
            "text/plain": [
              "array([[ 8450,     7,     5, ...,     8,     0,   548],\n",
              "       [ 9600,     6,     8, ...,     6,     1,   460],\n",
              "       [11250,     7,     5, ...,     6,     1,   608],\n",
              "       ...,\n",
              "       [ 9042,     7,     9, ...,     9,     2,   252],\n",
              "       [ 9717,     5,     6, ...,     5,     0,   240],\n",
              "       [ 9937,     5,     6, ...,     6,     0,   276]])"
            ]
          },
          "metadata": {
            "tags": []
          },
          "execution_count": 6
        }
      ]
    },
    {
      "cell_type": "code",
      "metadata": {
        "colab": {
          "base_uri": "https://localhost:8080/"
        },
        "id": "nNZroi3FigxM",
        "outputId": "3706f1f9-3509-40d2-bf46-4908f780be56"
      },
      "source": [
        "Y=dataset[:,10]\r\n",
        "Y"
      ],
      "execution_count": 7,
      "outputs": [
        {
          "output_type": "execute_result",
          "data": {
            "text/plain": [
              "array([1, 1, 1, ..., 1, 0, 0])"
            ]
          },
          "metadata": {
            "tags": []
          },
          "execution_count": 7
        }
      ]
    },
    {
      "cell_type": "markdown",
      "metadata": {
        "id": "7fcYA0vaimJ_"
      },
      "source": [
        "#### Features such as lot area are in the order of the thousands, a score for overall quality is ranged from 1 to 10, and the number of fireplaces tend to be 0, 1 or 2 so, we need to scale our data to make all the input features similar."
      ]
    },
    {
      "cell_type": "markdown",
      "metadata": {
        "id": "5ZR8pUX1l0oU"
      },
      "source": [
        "##### we use a function called the min-max scaler, which scales the dataset so that all the input features lie between 0 and 1 inclusive"
      ]
    },
    {
      "cell_type": "code",
      "metadata": {
        "colab": {
          "base_uri": "https://localhost:8080/"
        },
        "id": "BkH9HbGWl4mo",
        "outputId": "f97bd880-5f6b-457c-ba1d-ba95b4a4bdd6"
      },
      "source": [
        "min_max_scaler = preprocessing.MinMaxScaler()\r\n",
        "X_scale = min_max_scaler.fit_transform(X)\r\n",
        "X_scale"
      ],
      "execution_count": 9,
      "outputs": [
        {
          "output_type": "execute_result",
          "data": {
            "text/plain": [
              "array([[0.0334198 , 0.66666667, 0.5       , ..., 0.5       , 0.        ,\n",
              "        0.3864598 ],\n",
              "       [0.03879502, 0.55555556, 0.875     , ..., 0.33333333, 0.33333333,\n",
              "        0.32440056],\n",
              "       [0.04650728, 0.66666667, 0.5       , ..., 0.33333333, 0.33333333,\n",
              "        0.42877292],\n",
              "       ...,\n",
              "       [0.03618687, 0.66666667, 1.        , ..., 0.58333333, 0.66666667,\n",
              "        0.17771509],\n",
              "       [0.03934189, 0.44444444, 0.625     , ..., 0.25      , 0.        ,\n",
              "        0.16925247],\n",
              "       [0.04037019, 0.44444444, 0.625     , ..., 0.33333333, 0.        ,\n",
              "        0.19464034]])"
            ]
          },
          "metadata": {
            "tags": []
          },
          "execution_count": 9
        }
      ]
    },
    {
      "cell_type": "markdown",
      "metadata": {
        "id": "8LeN6Fj6l9K5"
      },
      "source": [
        "#### Split our data into train,test,validation."
      ]
    },
    {
      "cell_type": "code",
      "metadata": {
        "id": "Y375j15dnDAs"
      },
      "source": [
        "X_train, X_val_and_test, Y_train, Y_val_and_test = train_test_split(X_scale, Y, test_size=0.3)\r\n",
        "X_val, X_test, Y_val, Y_test = train_test_split(X_val_and_test, Y_val_and_test, test_size=0.5)"
      ],
      "execution_count": 11,
      "outputs": []
    },
    {
      "cell_type": "code",
      "metadata": {
        "colab": {
          "base_uri": "https://localhost:8080/"
        },
        "id": "jyXjuuSunJ6c",
        "outputId": "38409706-4b20-45e3-d589-0c0681d7a2d9"
      },
      "source": [
        "print(X_train.shape, X_val.shape, X_test.shape, Y_train.shape, Y_val.shape, Y_test.shape)"
      ],
      "execution_count": 12,
      "outputs": [
        {
          "output_type": "stream",
          "text": [
            "(1022, 10) (219, 10) (219, 10) (1022,) (219,) (219,)\n"
          ],
          "name": "stdout"
        }
      ]
    },
    {
      "cell_type": "markdown",
      "metadata": {
        "id": "m41VN2RgnMqq"
      },
      "source": [
        "#### Building the model"
      ]
    },
    {
      "cell_type": "code",
      "metadata": {
        "id": "MDlU2GGioLT6"
      },
      "source": [
        "model = Sequential([\r\n",
        "    Dense(32, activation='relu', input_shape=(10,)),\r\n",
        "    Dense(32, activation='relu'),\r\n",
        "    Dense(1, activation='sigmoid'),\r\n",
        "])"
      ],
      "execution_count": 15,
      "outputs": []
    },
    {
      "cell_type": "code",
      "metadata": {
        "id": "VvCFSgdvpY8N"
      },
      "source": [
        "model.compile(optimizer='sgd',\r\n",
        "              loss='binary_crossentropy',\r\n",
        "              metrics=['accuracy'])"
      ],
      "execution_count": 16,
      "outputs": []
    },
    {
      "cell_type": "markdown",
      "metadata": {
        "id": "ocBVhFV_pbPn"
      },
      "source": [
        "#### Training phase"
      ]
    },
    {
      "cell_type": "code",
      "metadata": {
        "colab": {
          "base_uri": "https://localhost:8080/"
        },
        "id": "o2tLWYhtpjSv",
        "outputId": "d4c11275-7dd3-4f66-c8bf-2e76cf60deda"
      },
      "source": [
        "hist = model.fit(X_train, Y_train,\r\n",
        "          batch_size=32, epochs=100,\r\n",
        "          validation_data=(X_val, Y_val))"
      ],
      "execution_count": 18,
      "outputs": [
        {
          "output_type": "stream",
          "text": [
            "Epoch 1/100\n",
            "32/32 [==============================] - 1s 16ms/step - loss: 0.7127 - accuracy: 0.4251 - val_loss: 0.7020 - val_accuracy: 0.4658\n",
            "Epoch 2/100\n",
            "32/32 [==============================] - 0s 2ms/step - loss: 0.7015 - accuracy: 0.4556 - val_loss: 0.6971 - val_accuracy: 0.3881\n",
            "Epoch 3/100\n",
            "32/32 [==============================] - 0s 2ms/step - loss: 0.6919 - accuracy: 0.4395 - val_loss: 0.6935 - val_accuracy: 0.4155\n",
            "Epoch 4/100\n",
            "32/32 [==============================] - 0s 2ms/step - loss: 0.6849 - accuracy: 0.4879 - val_loss: 0.6901 - val_accuracy: 0.4338\n",
            "Epoch 5/100\n",
            "32/32 [==============================] - 0s 2ms/step - loss: 0.6813 - accuracy: 0.5047 - val_loss: 0.6870 - val_accuracy: 0.4429\n",
            "Epoch 6/100\n",
            "32/32 [==============================] - 0s 3ms/step - loss: 0.6812 - accuracy: 0.4910 - val_loss: 0.6840 - val_accuracy: 0.4475\n",
            "Epoch 7/100\n",
            "32/32 [==============================] - 0s 2ms/step - loss: 0.6766 - accuracy: 0.5027 - val_loss: 0.6806 - val_accuracy: 0.4612\n",
            "Epoch 8/100\n",
            "32/32 [==============================] - 0s 2ms/step - loss: 0.6709 - accuracy: 0.5186 - val_loss: 0.6770 - val_accuracy: 0.4703\n",
            "Epoch 9/100\n",
            "32/32 [==============================] - 0s 2ms/step - loss: 0.6619 - accuracy: 0.5342 - val_loss: 0.6732 - val_accuracy: 0.4749\n",
            "Epoch 10/100\n",
            "32/32 [==============================] - 0s 2ms/step - loss: 0.6683 - accuracy: 0.5460 - val_loss: 0.6700 - val_accuracy: 0.4795\n",
            "Epoch 11/100\n",
            "32/32 [==============================] - 0s 2ms/step - loss: 0.6647 - accuracy: 0.5608 - val_loss: 0.6666 - val_accuracy: 0.4932\n",
            "Epoch 12/100\n",
            "32/32 [==============================] - 0s 2ms/step - loss: 0.6574 - accuracy: 0.5644 - val_loss: 0.6628 - val_accuracy: 0.5114\n",
            "Epoch 13/100\n",
            "32/32 [==============================] - 0s 3ms/step - loss: 0.6531 - accuracy: 0.6438 - val_loss: 0.6590 - val_accuracy: 0.5525\n",
            "Epoch 14/100\n",
            "32/32 [==============================] - 0s 2ms/step - loss: 0.6502 - accuracy: 0.6535 - val_loss: 0.6551 - val_accuracy: 0.5845\n",
            "Epoch 15/100\n",
            "32/32 [==============================] - 0s 2ms/step - loss: 0.6463 - accuracy: 0.6898 - val_loss: 0.6513 - val_accuracy: 0.6073\n",
            "Epoch 16/100\n",
            "32/32 [==============================] - 0s 2ms/step - loss: 0.6444 - accuracy: 0.6849 - val_loss: 0.6473 - val_accuracy: 0.6484\n",
            "Epoch 17/100\n",
            "32/32 [==============================] - 0s 2ms/step - loss: 0.6413 - accuracy: 0.7145 - val_loss: 0.6430 - val_accuracy: 0.6621\n",
            "Epoch 18/100\n",
            "32/32 [==============================] - 0s 2ms/step - loss: 0.6382 - accuracy: 0.7242 - val_loss: 0.6387 - val_accuracy: 0.6758\n",
            "Epoch 19/100\n",
            "32/32 [==============================] - 0s 2ms/step - loss: 0.6298 - accuracy: 0.7312 - val_loss: 0.6338 - val_accuracy: 0.6895\n",
            "Epoch 20/100\n",
            "32/32 [==============================] - 0s 2ms/step - loss: 0.6175 - accuracy: 0.7559 - val_loss: 0.6285 - val_accuracy: 0.6941\n",
            "Epoch 21/100\n",
            "32/32 [==============================] - 0s 2ms/step - loss: 0.6168 - accuracy: 0.7519 - val_loss: 0.6238 - val_accuracy: 0.7032\n",
            "Epoch 22/100\n",
            "32/32 [==============================] - 0s 2ms/step - loss: 0.6156 - accuracy: 0.7553 - val_loss: 0.6185 - val_accuracy: 0.6986\n",
            "Epoch 23/100\n",
            "32/32 [==============================] - 0s 3ms/step - loss: 0.6070 - accuracy: 0.7643 - val_loss: 0.6130 - val_accuracy: 0.7032\n",
            "Epoch 24/100\n",
            "32/32 [==============================] - 0s 3ms/step - loss: 0.6023 - accuracy: 0.7412 - val_loss: 0.6075 - val_accuracy: 0.7032\n",
            "Epoch 25/100\n",
            "32/32 [==============================] - 0s 3ms/step - loss: 0.6031 - accuracy: 0.7344 - val_loss: 0.6019 - val_accuracy: 0.7032\n",
            "Epoch 26/100\n",
            "32/32 [==============================] - 0s 2ms/step - loss: 0.6028 - accuracy: 0.7297 - val_loss: 0.5963 - val_accuracy: 0.7169\n",
            "Epoch 27/100\n",
            "32/32 [==============================] - 0s 2ms/step - loss: 0.5953 - accuracy: 0.7446 - val_loss: 0.5903 - val_accuracy: 0.7306\n",
            "Epoch 28/100\n",
            "32/32 [==============================] - 0s 3ms/step - loss: 0.5817 - accuracy: 0.7653 - val_loss: 0.5830 - val_accuracy: 0.7443\n",
            "Epoch 29/100\n",
            "32/32 [==============================] - 0s 3ms/step - loss: 0.5741 - accuracy: 0.7764 - val_loss: 0.5763 - val_accuracy: 0.7763\n",
            "Epoch 30/100\n",
            "32/32 [==============================] - 0s 2ms/step - loss: 0.5817 - accuracy: 0.7597 - val_loss: 0.5705 - val_accuracy: 0.7717\n",
            "Epoch 31/100\n",
            "32/32 [==============================] - 0s 3ms/step - loss: 0.5575 - accuracy: 0.8045 - val_loss: 0.5628 - val_accuracy: 0.7945\n",
            "Epoch 32/100\n",
            "32/32 [==============================] - 0s 2ms/step - loss: 0.5558 - accuracy: 0.7782 - val_loss: 0.5557 - val_accuracy: 0.8037\n",
            "Epoch 33/100\n",
            "32/32 [==============================] - 0s 2ms/step - loss: 0.5530 - accuracy: 0.7932 - val_loss: 0.5465 - val_accuracy: 0.8219\n",
            "Epoch 34/100\n",
            "32/32 [==============================] - 0s 2ms/step - loss: 0.5497 - accuracy: 0.7961 - val_loss: 0.5402 - val_accuracy: 0.8219\n",
            "Epoch 35/100\n",
            "32/32 [==============================] - 0s 2ms/step - loss: 0.5308 - accuracy: 0.8107 - val_loss: 0.5329 - val_accuracy: 0.8219\n",
            "Epoch 36/100\n",
            "32/32 [==============================] - 0s 2ms/step - loss: 0.5372 - accuracy: 0.8035 - val_loss: 0.5270 - val_accuracy: 0.8219\n",
            "Epoch 37/100\n",
            "32/32 [==============================] - 0s 3ms/step - loss: 0.5376 - accuracy: 0.7828 - val_loss: 0.5175 - val_accuracy: 0.8219\n",
            "Epoch 38/100\n",
            "32/32 [==============================] - 0s 3ms/step - loss: 0.5203 - accuracy: 0.8266 - val_loss: 0.5098 - val_accuracy: 0.8311\n",
            "Epoch 39/100\n",
            "32/32 [==============================] - 0s 3ms/step - loss: 0.5016 - accuracy: 0.8359 - val_loss: 0.4999 - val_accuracy: 0.8402\n",
            "Epoch 40/100\n",
            "32/32 [==============================] - 0s 2ms/step - loss: 0.4908 - accuracy: 0.8335 - val_loss: 0.4916 - val_accuracy: 0.8402\n",
            "Epoch 41/100\n",
            "32/32 [==============================] - 0s 3ms/step - loss: 0.4858 - accuracy: 0.8346 - val_loss: 0.4858 - val_accuracy: 0.8447\n",
            "Epoch 42/100\n",
            "32/32 [==============================] - 0s 3ms/step - loss: 0.4957 - accuracy: 0.8174 - val_loss: 0.4772 - val_accuracy: 0.8447\n",
            "Epoch 43/100\n",
            "32/32 [==============================] - 0s 3ms/step - loss: 0.4849 - accuracy: 0.8238 - val_loss: 0.4690 - val_accuracy: 0.8447\n",
            "Epoch 44/100\n",
            "32/32 [==============================] - 0s 2ms/step - loss: 0.4630 - accuracy: 0.8451 - val_loss: 0.4604 - val_accuracy: 0.8493\n",
            "Epoch 45/100\n",
            "32/32 [==============================] - 0s 2ms/step - loss: 0.4731 - accuracy: 0.8300 - val_loss: 0.4525 - val_accuracy: 0.8493\n",
            "Epoch 46/100\n",
            "32/32 [==============================] - 0s 2ms/step - loss: 0.4630 - accuracy: 0.8325 - val_loss: 0.4444 - val_accuracy: 0.8493\n",
            "Epoch 47/100\n",
            "32/32 [==============================] - 0s 2ms/step - loss: 0.4634 - accuracy: 0.8261 - val_loss: 0.4400 - val_accuracy: 0.8630\n",
            "Epoch 48/100\n",
            "32/32 [==============================] - 0s 3ms/step - loss: 0.4558 - accuracy: 0.8324 - val_loss: 0.4320 - val_accuracy: 0.8584\n",
            "Epoch 49/100\n",
            "32/32 [==============================] - 0s 3ms/step - loss: 0.4399 - accuracy: 0.8335 - val_loss: 0.4257 - val_accuracy: 0.8630\n",
            "Epoch 50/100\n",
            "32/32 [==============================] - 0s 3ms/step - loss: 0.4458 - accuracy: 0.8337 - val_loss: 0.4185 - val_accuracy: 0.8630\n",
            "Epoch 51/100\n",
            "32/32 [==============================] - 0s 3ms/step - loss: 0.4260 - accuracy: 0.8412 - val_loss: 0.4102 - val_accuracy: 0.8630\n",
            "Epoch 52/100\n",
            "32/32 [==============================] - 0s 3ms/step - loss: 0.4346 - accuracy: 0.8311 - val_loss: 0.4075 - val_accuracy: 0.8630\n",
            "Epoch 53/100\n",
            "32/32 [==============================] - 0s 2ms/step - loss: 0.4129 - accuracy: 0.8521 - val_loss: 0.3979 - val_accuracy: 0.8630\n",
            "Epoch 54/100\n",
            "32/32 [==============================] - 0s 2ms/step - loss: 0.4121 - accuracy: 0.8524 - val_loss: 0.3938 - val_accuracy: 0.8630\n",
            "Epoch 55/100\n",
            "32/32 [==============================] - 0s 2ms/step - loss: 0.4059 - accuracy: 0.8550 - val_loss: 0.3839 - val_accuracy: 0.8630\n",
            "Epoch 56/100\n",
            "32/32 [==============================] - 0s 2ms/step - loss: 0.3815 - accuracy: 0.8674 - val_loss: 0.3790 - val_accuracy: 0.8630\n",
            "Epoch 57/100\n",
            "32/32 [==============================] - 0s 2ms/step - loss: 0.3963 - accuracy: 0.8628 - val_loss: 0.3719 - val_accuracy: 0.8767\n",
            "Epoch 58/100\n",
            "32/32 [==============================] - 0s 2ms/step - loss: 0.3869 - accuracy: 0.8708 - val_loss: 0.3660 - val_accuracy: 0.8767\n",
            "Epoch 59/100\n",
            "32/32 [==============================] - 0s 2ms/step - loss: 0.3903 - accuracy: 0.8671 - val_loss: 0.3595 - val_accuracy: 0.8858\n",
            "Epoch 60/100\n",
            "32/32 [==============================] - 0s 2ms/step - loss: 0.3811 - accuracy: 0.8611 - val_loss: 0.3545 - val_accuracy: 0.8858\n",
            "Epoch 61/100\n",
            "32/32 [==============================] - 0s 2ms/step - loss: 0.3833 - accuracy: 0.8677 - val_loss: 0.3503 - val_accuracy: 0.8813\n",
            "Epoch 62/100\n",
            "32/32 [==============================] - 0s 2ms/step - loss: 0.3871 - accuracy: 0.8612 - val_loss: 0.3439 - val_accuracy: 0.8858\n",
            "Epoch 63/100\n",
            "32/32 [==============================] - 0s 3ms/step - loss: 0.3899 - accuracy: 0.8350 - val_loss: 0.3435 - val_accuracy: 0.8767\n",
            "Epoch 64/100\n",
            "32/32 [==============================] - 0s 2ms/step - loss: 0.3582 - accuracy: 0.8670 - val_loss: 0.3360 - val_accuracy: 0.8813\n",
            "Epoch 65/100\n",
            "32/32 [==============================] - 0s 2ms/step - loss: 0.3728 - accuracy: 0.8652 - val_loss: 0.3330 - val_accuracy: 0.8813\n",
            "Epoch 66/100\n",
            "32/32 [==============================] - 0s 2ms/step - loss: 0.3735 - accuracy: 0.8558 - val_loss: 0.3285 - val_accuracy: 0.8813\n",
            "Epoch 67/100\n",
            "32/32 [==============================] - 0s 3ms/step - loss: 0.3459 - accuracy: 0.8741 - val_loss: 0.3215 - val_accuracy: 0.8858\n",
            "Epoch 68/100\n",
            "32/32 [==============================] - 0s 3ms/step - loss: 0.3658 - accuracy: 0.8609 - val_loss: 0.3175 - val_accuracy: 0.8858\n",
            "Epoch 69/100\n",
            "32/32 [==============================] - 0s 2ms/step - loss: 0.3494 - accuracy: 0.8610 - val_loss: 0.3190 - val_accuracy: 0.8813\n",
            "Epoch 70/100\n",
            "32/32 [==============================] - 0s 2ms/step - loss: 0.3472 - accuracy: 0.8702 - val_loss: 0.3104 - val_accuracy: 0.8904\n",
            "Epoch 71/100\n",
            "32/32 [==============================] - 0s 2ms/step - loss: 0.3483 - accuracy: 0.8708 - val_loss: 0.3095 - val_accuracy: 0.8813\n",
            "Epoch 72/100\n",
            "32/32 [==============================] - 0s 2ms/step - loss: 0.3435 - accuracy: 0.8699 - val_loss: 0.3043 - val_accuracy: 0.8950\n",
            "Epoch 73/100\n",
            "32/32 [==============================] - 0s 3ms/step - loss: 0.3470 - accuracy: 0.8825 - val_loss: 0.3005 - val_accuracy: 0.9041\n",
            "Epoch 74/100\n",
            "32/32 [==============================] - 0s 2ms/step - loss: 0.3231 - accuracy: 0.8775 - val_loss: 0.2976 - val_accuracy: 0.9041\n",
            "Epoch 75/100\n",
            "32/32 [==============================] - 0s 2ms/step - loss: 0.3309 - accuracy: 0.8770 - val_loss: 0.2930 - val_accuracy: 0.9087\n",
            "Epoch 76/100\n",
            "32/32 [==============================] - 0s 3ms/step - loss: 0.3284 - accuracy: 0.8745 - val_loss: 0.2900 - val_accuracy: 0.9087\n",
            "Epoch 77/100\n",
            "32/32 [==============================] - 0s 2ms/step - loss: 0.3335 - accuracy: 0.8760 - val_loss: 0.2902 - val_accuracy: 0.9132\n",
            "Epoch 78/100\n",
            "32/32 [==============================] - 0s 2ms/step - loss: 0.3192 - accuracy: 0.8872 - val_loss: 0.2857 - val_accuracy: 0.9087\n",
            "Epoch 79/100\n",
            "32/32 [==============================] - 0s 2ms/step - loss: 0.3222 - accuracy: 0.8749 - val_loss: 0.2887 - val_accuracy: 0.8995\n",
            "Epoch 80/100\n",
            "32/32 [==============================] - 0s 2ms/step - loss: 0.3525 - accuracy: 0.8572 - val_loss: 0.2839 - val_accuracy: 0.9132\n",
            "Epoch 81/100\n",
            "32/32 [==============================] - 0s 2ms/step - loss: 0.3270 - accuracy: 0.8625 - val_loss: 0.2797 - val_accuracy: 0.9132\n",
            "Epoch 82/100\n",
            "32/32 [==============================] - 0s 2ms/step - loss: 0.3023 - accuracy: 0.8859 - val_loss: 0.2778 - val_accuracy: 0.9132\n",
            "Epoch 83/100\n",
            "32/32 [==============================] - 0s 2ms/step - loss: 0.3404 - accuracy: 0.8638 - val_loss: 0.2759 - val_accuracy: 0.9132\n",
            "Epoch 84/100\n",
            "32/32 [==============================] - 0s 2ms/step - loss: 0.3266 - accuracy: 0.8631 - val_loss: 0.2686 - val_accuracy: 0.9178\n",
            "Epoch 85/100\n",
            "32/32 [==============================] - 0s 3ms/step - loss: 0.3118 - accuracy: 0.8712 - val_loss: 0.2702 - val_accuracy: 0.9178\n",
            "Epoch 86/100\n",
            "32/32 [==============================] - 0s 2ms/step - loss: 0.3281 - accuracy: 0.8624 - val_loss: 0.2738 - val_accuracy: 0.9132\n",
            "Epoch 87/100\n",
            "32/32 [==============================] - 0s 2ms/step - loss: 0.3210 - accuracy: 0.8673 - val_loss: 0.2681 - val_accuracy: 0.9132\n",
            "Epoch 88/100\n",
            "32/32 [==============================] - 0s 2ms/step - loss: 0.3030 - accuracy: 0.8764 - val_loss: 0.2655 - val_accuracy: 0.9178\n",
            "Epoch 89/100\n",
            "32/32 [==============================] - 0s 2ms/step - loss: 0.3249 - accuracy: 0.8675 - val_loss: 0.2617 - val_accuracy: 0.9178\n",
            "Epoch 90/100\n",
            "32/32 [==============================] - 0s 2ms/step - loss: 0.2920 - accuracy: 0.8844 - val_loss: 0.2600 - val_accuracy: 0.9178\n",
            "Epoch 91/100\n",
            "32/32 [==============================] - 0s 2ms/step - loss: 0.3201 - accuracy: 0.8593 - val_loss: 0.2585 - val_accuracy: 0.9178\n",
            "Epoch 92/100\n",
            "32/32 [==============================] - 0s 2ms/step - loss: 0.2978 - accuracy: 0.8830 - val_loss: 0.2602 - val_accuracy: 0.9224\n",
            "Epoch 93/100\n",
            "32/32 [==============================] - 0s 3ms/step - loss: 0.3311 - accuracy: 0.8651 - val_loss: 0.2571 - val_accuracy: 0.9178\n",
            "Epoch 94/100\n",
            "32/32 [==============================] - 0s 2ms/step - loss: 0.3110 - accuracy: 0.8780 - val_loss: 0.2513 - val_accuracy: 0.9178\n",
            "Epoch 95/100\n",
            "32/32 [==============================] - 0s 3ms/step - loss: 0.3076 - accuracy: 0.8805 - val_loss: 0.2577 - val_accuracy: 0.9178\n",
            "Epoch 96/100\n",
            "32/32 [==============================] - 0s 3ms/step - loss: 0.2958 - accuracy: 0.8852 - val_loss: 0.2539 - val_accuracy: 0.9224\n",
            "Epoch 97/100\n",
            "32/32 [==============================] - 0s 3ms/step - loss: 0.2824 - accuracy: 0.8872 - val_loss: 0.2515 - val_accuracy: 0.9178\n",
            "Epoch 98/100\n",
            "32/32 [==============================] - 0s 2ms/step - loss: 0.3061 - accuracy: 0.8750 - val_loss: 0.2477 - val_accuracy: 0.9178\n",
            "Epoch 99/100\n",
            "32/32 [==============================] - 0s 3ms/step - loss: 0.2692 - accuracy: 0.8937 - val_loss: 0.2522 - val_accuracy: 0.9224\n",
            "Epoch 100/100\n",
            "32/32 [==============================] - 0s 2ms/step - loss: 0.3098 - accuracy: 0.8575 - val_loss: 0.2455 - val_accuracy: 0.9178\n"
          ],
          "name": "stdout"
        }
      ]
    },
    {
      "cell_type": "markdown",
      "metadata": {
        "id": "0Kjq-Ly7p-Ms"
      },
      "source": [
        "#### Evaluate the model"
      ]
    },
    {
      "cell_type": "code",
      "metadata": {
        "colab": {
          "base_uri": "https://localhost:8080/"
        },
        "id": "vyZOlZVcplAK",
        "outputId": "1945cf32-faa8-4b38-9561-6ea2e5f90331"
      },
      "source": [
        "model.evaluate(X_test, Y_test)[1]"
      ],
      "execution_count": 19,
      "outputs": [
        {
          "output_type": "stream",
          "text": [
            "7/7 [==============================] - 0s 2ms/step - loss: 0.3272 - accuracy: 0.8904\n"
          ],
          "name": "stdout"
        },
        {
          "output_type": "execute_result",
          "data": {
            "text/plain": [
              "0.8904109597206116"
            ]
          },
          "metadata": {
            "tags": []
          },
          "execution_count": 19
        }
      ]
    },
    {
      "cell_type": "code",
      "metadata": {
        "colab": {
          "base_uri": "https://localhost:8080/",
          "height": 295
        },
        "id": "O_GXXnc8p8BE",
        "outputId": "e52fed2f-217d-4e96-efc6-21f0a6c22dda"
      },
      "source": [
        "plt.plot(hist.history['loss'])\r\n",
        "plt.plot(hist.history['val_loss'])\r\n",
        "plt.title('Model loss')\r\n",
        "plt.ylabel('Loss')\r\n",
        "plt.xlabel('Epoch')\r\n",
        "plt.legend(['Train', 'Val'], loc='upper right')\r\n",
        "plt.show()"
      ],
      "execution_count": 22,
      "outputs": [
        {
          "output_type": "display_data",
          "data": {
            "image/png": "[encoded data removed]",
            "text/plain": [
              "<Figure size 432x288 with 1 Axes>"
            ]
          },
          "metadata": {
            "tags": [],
            "needs_background": "light"
          }
        }
      ]
    },
    {
      "cell_type": "code",
      "metadata": {
        "id": "1IN78dxNrM9c"
      },
      "source": [
        ""
      ],
      "execution_count": null,
      "outputs": []
    }
  ]
}