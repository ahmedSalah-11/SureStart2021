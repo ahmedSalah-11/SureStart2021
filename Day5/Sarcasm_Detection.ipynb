{
  "nbformat": 4,
  "nbformat_minor": 0,
  "metadata": {
    "colab": {
      "name": "NLP.ipynb",
      "provenance": [],
      "authorship_tag": "ABX9TyOvcAWlJFz3j7mvPwGKKWd1",
      "include_colab_link": true
    },
    "kernelspec": {
      "name": "python3",
      "display_name": "Python 3"
    }
  },
  "cells": [
    {
      "cell_type": "markdown",
      "metadata": {
        "id": "view-in-github",
        "colab_type": "text"
      },
      "source": [
        "<a href=\"https://colab.research.google.com/github/ahmedSalah-11/SureStart2021/blob/main/Day5/Sarcasm_Detection.ipynb\" target=\"_parent\"><img src=\"https://colab.research.google.com/assets/colab-badge.svg\" alt=\"Open In Colab\"/></a>"
      ]
    },
    {
      "cell_type": "code",
      "metadata": {
        "id": "K3yRFw8iVjuH"
      },
      "source": [
        "import json\r\n",
        "import tensorflow as tf\r\n",
        "import pandas as pd\r\n",
        "import numpy as np\r\n",
        "\r\n",
        "\r\n",
        "from tensorflow.keras.preprocessing.text import Tokenizer\r\n",
        "from tensorflow.keras.preprocessing.sequence import pad_sequences"
      ],
      "execution_count": 53,
      "outputs": []
    },
    {
      "cell_type": "code",
      "metadata": {
        "id": "iITGaBuxWP8L"
      },
      "source": [
        "vocab_size = 10000\r\n",
        "embedding_dim = 16\r\n",
        "max_length = 100\r\n",
        "trunc_type='post'\r\n",
        "padding_type='post'\r\n",
        "oov_tok = \"<OOV>\"\r\n",
        "training_size = 20000"
      ],
      "execution_count": 26,
      "outputs": []
    },
    {
      "cell_type": "code",
      "metadata": {
        "colab": {
          "base_uri": "https://localhost:8080/",
          "height": 195
        },
        "id": "47l6JEmKkKWs",
        "outputId": "66ffd08c-6c32-4131-bd26-32172240500a"
      },
      "source": [
        "datastore = pd.read_json(\"/tmp/Sarcasm_Headlines_Dataset.json\", lines = True)\r\n",
        "\r\n",
        "\r\n",
        "datastore.head()\r\n",
        "\r\n"
      ],
      "execution_count": 67,
      "outputs": [
        {
          "output_type": "execute_result",
          "data": {
            "text/html": [
              "<div>\n",
              "<style scoped>\n",
              "    .dataframe tbody tr th:only-of-type {\n",
              "        vertical-align: middle;\n",
              "    }\n",
              "\n",
              "    .dataframe tbody tr th {\n",
              "        vertical-align: top;\n",
              "    }\n",
              "\n",
              "    .dataframe thead th {\n",
              "        text-align: right;\n",
              "    }\n",
              "</style>\n",
              "<table border=\"1\" class=\"dataframe\">\n",
              "  <thead>\n",
              "    <tr style=\"text-align: right;\">\n",
              "      <th></th>\n",
              "      <th>article_link</th>\n",
              "      <th>headline</th>\n",
              "      <th>is_sarcastic</th>\n",
              "    </tr>\n",
              "  </thead>\n",
              "  <tbody>\n",
              "    <tr>\n",
              "      <th>0</th>\n",
              "      <td>https://www.huffingtonpost.com/entry/versace-b...</td>\n",
              "      <td>former versace store clerk sues over secret 'b...</td>\n",
              "      <td>0</td>\n",
              "    </tr>\n",
              "    <tr>\n",
              "      <th>1</th>\n",
              "      <td>https://www.huffingtonpost.com/entry/roseanne-...</td>\n",
              "      <td>the 'roseanne' revival catches up to our thorn...</td>\n",
              "      <td>0</td>\n",
              "    </tr>\n",
              "    <tr>\n",
              "      <th>2</th>\n",
              "      <td>https://local.theonion.com/mom-starting-to-fea...</td>\n",
              "      <td>mom starting to fear son's web series closest ...</td>\n",
              "      <td>1</td>\n",
              "    </tr>\n",
              "    <tr>\n",
              "      <th>3</th>\n",
              "      <td>https://politics.theonion.com/boehner-just-wan...</td>\n",
              "      <td>boehner just wants wife to listen, not come up...</td>\n",
              "      <td>1</td>\n",
              "    </tr>\n",
              "    <tr>\n",
              "      <th>4</th>\n",
              "      <td>https://www.huffingtonpost.com/entry/jk-rowlin...</td>\n",
              "      <td>j.k. rowling wishes snape happy birthday in th...</td>\n",
              "      <td>0</td>\n",
              "    </tr>\n",
              "  </tbody>\n",
              "</table>\n",
              "</div>"
            ],
            "text/plain": [
              "                                        article_link  ... is_sarcastic\n",
              "0  https://www.huffingtonpost.com/entry/versace-b...  ...            0\n",
              "1  https://www.huffingtonpost.com/entry/roseanne-...  ...            0\n",
              "2  https://local.theonion.com/mom-starting-to-fea...  ...            1\n",
              "3  https://politics.theonion.com/boehner-just-wan...  ...            1\n",
              "4  https://www.huffingtonpost.com/entry/jk-rowlin...  ...            0\n",
              "\n",
              "[5 rows x 3 columns]"
            ]
          },
          "metadata": {
            "tags": []
          },
          "execution_count": 67
        }
      ]
    },
    {
      "cell_type": "code",
      "metadata": {
        "colab": {
          "base_uri": "https://localhost:8080/"
        },
        "id": "u130eR2EU7C3",
        "outputId": "a4446964-2378-423f-db2a-8a2babad8f66"
      },
      "source": [
        "datastore.info()"
      ],
      "execution_count": 68,
      "outputs": [
        {
          "output_type": "stream",
          "text": [
            "<class 'pandas.core.frame.DataFrame'>\n",
            "RangeIndex: 26709 entries, 0 to 26708\n",
            "Data columns (total 3 columns):\n",
            " #   Column        Non-Null Count  Dtype \n",
            "---  ------        --------------  ----- \n",
            " 0   article_link  26709 non-null  object\n",
            " 1   headline      26709 non-null  object\n",
            " 2   is_sarcastic  26709 non-null  int64 \n",
            "dtypes: int64(1), object(2)\n",
            "memory usage: 626.1+ KB\n"
          ],
          "name": "stdout"
        }
      ]
    },
    {
      "cell_type": "code",
      "metadata": {
        "id": "3QIgqnvzU0EJ"
      },
      "source": [
        "sentcences=datastore['headline'].to_numpy()\r\n",
        "labels=datastore['is_sarcastic'].to_numpy()"
      ],
      "execution_count": 69,
      "outputs": []
    },
    {
      "cell_type": "markdown",
      "metadata": {
        "id": "PggzV1vpVFGI"
      },
      "source": [
        "### Split Data into training and testing portions"
      ]
    },
    {
      "cell_type": "code",
      "metadata": {
        "id": "TYJSQBx8khxI"
      },
      "source": [
        "\r\n",
        "training_sentences = sentcences[0:training_size]\r\n",
        "testing_sentences = sentcences[training_size:]\r\n",
        "training_labels = labels[0:training_size]\r\n",
        "testing_labels = labels[training_size:]\r\n"
      ],
      "execution_count": 70,
      "outputs": []
    },
    {
      "cell_type": "markdown",
      "metadata": {
        "id": "Ul6pclUyVsyN"
      },
      "source": [
        "### Tokenization process"
      ]
    },
    {
      "cell_type": "code",
      "metadata": {
        "id": "Dro01rysvA3T"
      },
      "source": [
        "tokenizer = Tokenizer(num_words=vocab_size, oov_token=oov_tok)\r\n",
        "tokenizer.fit_on_texts(training_sentences)\r\n",
        "\r\n",
        "word_index = tokenizer.word_index\r\n",
        "\r\n",
        "training_sequences = tokenizer.texts_to_sequences(training_sentences)\r\n",
        "training_padded = pad_sequences(training_sequences, maxlen=max_length, padding=padding_type, truncating=trunc_type)\r\n",
        "\r\n",
        "testing_sequences = tokenizer.texts_to_sequences(testing_sentences)\r\n",
        "testing_padded = pad_sequences(testing_sequences, maxlen=max_length, padding=padding_type, truncating=trunc_type)"
      ],
      "execution_count": 71,
      "outputs": []
    },
    {
      "cell_type": "markdown",
      "metadata": {
        "id": "jIUy3CeUV2sD"
      },
      "source": [
        "### Building the model"
      ]
    },
    {
      "cell_type": "code",
      "metadata": {
        "id": "pcu0meA9zmJ9"
      },
      "source": [
        "model = tf.keras.Sequential([\r\n",
        "    tf.keras.layers.Embedding(vocab_size, embedding_dim, input_length=max_length),\r\n",
        "    tf.keras.layers.GlobalAveragePooling1D(),\r\n",
        "    tf.keras.layers.Dense(24, activation='relu'),\r\n",
        "    tf.keras.layers.Dense(1, activation='sigmoid')\r\n",
        "])\r\n",
        "model.compile(loss='binary_crossentropy',optimizer='adam',metrics=['accuracy'])"
      ],
      "execution_count": 72,
      "outputs": []
    },
    {
      "cell_type": "code",
      "metadata": {
        "colab": {
          "base_uri": "https://localhost:8080/"
        },
        "id": "rnfprcb2K-pK",
        "outputId": "13fa9087-373a-451a-f48c-97c949f6123e"
      },
      "source": [
        "model.summary()"
      ],
      "execution_count": 41,
      "outputs": [
        {
          "output_type": "stream",
          "text": [
            "Model: \"sequential\"\n",
            "_________________________________________________________________\n",
            "Layer (type)                 Output Shape              Param #   \n",
            "=================================================================\n",
            "embedding (Embedding)        (None, 100, 16)           160000    \n",
            "_________________________________________________________________\n",
            "global_average_pooling1d (Gl (None, 16)                0         \n",
            "_________________________________________________________________\n",
            "dense (Dense)                (None, 24)                408       \n",
            "_________________________________________________________________\n",
            "dense_1 (Dense)              (None, 1)                 25        \n",
            "=================================================================\n",
            "Total params: 160,433\n",
            "Trainable params: 160,433\n",
            "Non-trainable params: 0\n",
            "_________________________________________________________________\n"
          ],
          "name": "stdout"
        }
      ]
    },
    {
      "cell_type": "markdown",
      "metadata": {
        "id": "50_VHN35V7Ua"
      },
      "source": [
        "### Training and testing "
      ]
    },
    {
      "cell_type": "code",
      "metadata": {
        "colab": {
          "base_uri": "https://localhost:8080/"
        },
        "id": "AfjW8a9tLAeW",
        "outputId": "3c3e5b80-be36-456e-c8bb-6defec541d85"
      },
      "source": [
        "num_epochs = 30\r\n",
        "history = model.fit(training_padded, training_labels, epochs=num_epochs, validation_data=(testing_padded, testing_labels), verbose=2)"
      ],
      "execution_count": 42,
      "outputs": [
        {
          "output_type": "stream",
          "text": [
            "Epoch 1/30\n",
            "625/625 - 2s - loss: 0.6692 - accuracy: 0.5724 - val_loss: 0.6036 - val_accuracy: 0.6982\n",
            "Epoch 2/30\n",
            "625/625 - 2s - loss: 0.4511 - accuracy: 0.8195 - val_loss: 0.3906 - val_accuracy: 0.8398\n",
            "Epoch 3/30\n",
            "625/625 - 2s - loss: 0.3186 - accuracy: 0.8745 - val_loss: 0.3556 - val_accuracy: 0.8533\n",
            "Epoch 4/30\n",
            "625/625 - 2s - loss: 0.2640 - accuracy: 0.8977 - val_loss: 0.3467 - val_accuracy: 0.8545\n",
            "Epoch 5/30\n",
            "625/625 - 2s - loss: 0.2288 - accuracy: 0.9122 - val_loss: 0.3466 - val_accuracy: 0.8556\n",
            "Epoch 6/30\n",
            "625/625 - 2s - loss: 0.2035 - accuracy: 0.9241 - val_loss: 0.3583 - val_accuracy: 0.8518\n",
            "Epoch 7/30\n",
            "625/625 - 2s - loss: 0.1793 - accuracy: 0.9322 - val_loss: 0.3682 - val_accuracy: 0.8478\n",
            "Epoch 8/30\n",
            "625/625 - 2s - loss: 0.1625 - accuracy: 0.9391 - val_loss: 0.3760 - val_accuracy: 0.8509\n",
            "Epoch 9/30\n",
            "625/625 - 2s - loss: 0.1446 - accuracy: 0.9491 - val_loss: 0.3910 - val_accuracy: 0.8515\n",
            "Epoch 10/30\n",
            "625/625 - 2s - loss: 0.1321 - accuracy: 0.9534 - val_loss: 0.4182 - val_accuracy: 0.8453\n",
            "Epoch 11/30\n",
            "625/625 - 2s - loss: 0.1202 - accuracy: 0.9585 - val_loss: 0.4254 - val_accuracy: 0.8501\n",
            "Epoch 12/30\n",
            "625/625 - 2s - loss: 0.1097 - accuracy: 0.9626 - val_loss: 0.4554 - val_accuracy: 0.8436\n",
            "Epoch 13/30\n",
            "625/625 - 2s - loss: 0.1004 - accuracy: 0.9656 - val_loss: 0.4784 - val_accuracy: 0.8419\n",
            "Epoch 14/30\n",
            "625/625 - 2s - loss: 0.0919 - accuracy: 0.9701 - val_loss: 0.5208 - val_accuracy: 0.8375\n",
            "Epoch 15/30\n",
            "625/625 - 2s - loss: 0.0863 - accuracy: 0.9706 - val_loss: 0.5662 - val_accuracy: 0.8335\n",
            "Epoch 16/30\n",
            "625/625 - 2s - loss: 0.0793 - accuracy: 0.9737 - val_loss: 0.5621 - val_accuracy: 0.8347\n",
            "Epoch 17/30\n",
            "625/625 - 2s - loss: 0.0723 - accuracy: 0.9754 - val_loss: 0.5814 - val_accuracy: 0.8353\n",
            "Epoch 18/30\n",
            "625/625 - 2s - loss: 0.0653 - accuracy: 0.9805 - val_loss: 0.6345 - val_accuracy: 0.8298\n",
            "Epoch 19/30\n",
            "625/625 - 2s - loss: 0.0614 - accuracy: 0.9799 - val_loss: 0.6466 - val_accuracy: 0.8317\n",
            "Epoch 20/30\n",
            "625/625 - 2s - loss: 0.0559 - accuracy: 0.9826 - val_loss: 0.6805 - val_accuracy: 0.8290\n",
            "Epoch 21/30\n",
            "625/625 - 2s - loss: 0.0538 - accuracy: 0.9837 - val_loss: 0.7171 - val_accuracy: 0.8252\n",
            "Epoch 22/30\n",
            "625/625 - 2s - loss: 0.0480 - accuracy: 0.9861 - val_loss: 0.7912 - val_accuracy: 0.8219\n",
            "Epoch 23/30\n",
            "625/625 - 2s - loss: 0.0448 - accuracy: 0.9868 - val_loss: 0.8244 - val_accuracy: 0.8207\n",
            "Epoch 24/30\n",
            "625/625 - 2s - loss: 0.0404 - accuracy: 0.9879 - val_loss: 0.8188 - val_accuracy: 0.8198\n",
            "Epoch 25/30\n",
            "625/625 - 2s - loss: 0.0382 - accuracy: 0.9889 - val_loss: 0.8835 - val_accuracy: 0.8199\n",
            "Epoch 26/30\n",
            "625/625 - 2s - loss: 0.0341 - accuracy: 0.9913 - val_loss: 0.8921 - val_accuracy: 0.8173\n",
            "Epoch 27/30\n",
            "625/625 - 2s - loss: 0.0312 - accuracy: 0.9920 - val_loss: 0.9594 - val_accuracy: 0.8174\n",
            "Epoch 28/30\n",
            "625/625 - 2s - loss: 0.0298 - accuracy: 0.9919 - val_loss: 0.9694 - val_accuracy: 0.8131\n",
            "Epoch 29/30\n",
            "625/625 - 2s - loss: 0.0284 - accuracy: 0.9922 - val_loss: 1.0224 - val_accuracy: 0.8158\n",
            "Epoch 30/30\n",
            "625/625 - 2s - loss: 0.0250 - accuracy: 0.9936 - val_loss: 1.0936 - val_accuracy: 0.8153\n"
          ],
          "name": "stdout"
        }
      ]
    },
    {
      "cell_type": "code",
      "metadata": {
        "id": "1wQIU9cySfg0"
      },
      "source": [
        ""
      ],
      "execution_count": null,
      "outputs": []
    }
  ]
}